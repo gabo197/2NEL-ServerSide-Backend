{
  "nbformat": 4,
  "nbformat_minor": 0,
  "metadata": {
    "colab": {
      "name": "playground1.ipynb",
      "provenance": [],
      "include_colab_link": true
    },
    "kernelspec": {
      "name": "python3",
      "display_name": "Python 3"
    },
    "language_info": {
      "name": "python"
    }
  },
  "cells": [
    {
      "cell_type": "markdown",
      "metadata": {
        "id": "view-in-github",
        "colab_type": "text"
      },
      "source": [
        "<a href=\"https://colab.research.google.com/github/gabo197/2NEL-ServerSide-Backend/blob/main/Playground1.ipynb\" target=\"_parent\"><img src=\"https://colab.research.google.com/assets/colab-badge.svg\" alt=\"Open In Colab\"/></a>"
      ]
    },
    {
      "cell_type": "markdown",
      "metadata": {
        "id": "PiTjE15huJnK"
      },
      "source": [
        "# Playground 1\n",
        "\n",
        "Python básico\n",
        "\n"
      ]
    },
    {
      "cell_type": "markdown",
      "metadata": {
        "id": "wTQVE8Edv4-b"
      },
      "source": [
        "## Funciones (3 puntos)\n",
        "\n",
        "Implementa una función que reciba una lista y la ordene descendentemente.\n",
        "\n",
        "Al finalizar copie el código **desde la línea 2** en adelante al archivo `funciones.py`"
      ]
    },
    {
      "cell_type": "code",
      "metadata": {
        "id": "7NNPN6Vp11jq",
        "outputId": "a24356e8-ef05-441e-cd67-cfdf18424198",
        "colab": {
          "base_uri": "https://localhost:8080/"
        }
      },
      "source": [
        "%%file primero.py\n",
        "\n",
        "def inverseSort(a): # No cambiar el nombre de la función ni parámetros\n",
        "    length = len(a)\n",
        "    for i in range(length - 1):\n",
        "        for j in range(0, length-i-1):\n",
        "            if a[j]<a[j+1]:\n",
        "                a[j],a[j+1]=a[j+1],a[j]\n",
        "    return a"
      ],
      "execution_count": 27,
      "outputs": [
        {
          "output_type": "stream",
          "name": "stdout",
          "text": [
            "Overwriting primero.py\n"
          ]
        }
      ]
    },
    {
      "cell_type": "markdown",
      "metadata": {
        "id": "6W8WIsEUkWXZ"
      },
      "source": [
        "## Diccionarios (3 puntos)\n",
        "\n",
        "Implementa una función que reciba un texto y **retorne** un diccionario indicando cuantas veces se repite cada letra del abecedario. Solo se proporcionan textos en minúsculas y sin tildes ni caracteres especiales.\n",
        "\n",
        "Por ejemplo, si se proporciona el texto `\"mi mama\"` deberá retornar `{\"m\": 3, \"a\": 2, \"i\": 1}`\n",
        "\n",
        "Al finalizar copie el código **desde la línea 2** en adelante al archivo `diccionario.py`"
      ]
    },
    {
      "cell_type": "code",
      "metadata": {
        "id": "C6ViNyj7kUEi",
        "outputId": "a6b92a8b-b7ae-41a4-b21d-e6993125c494",
        "colab": {
          "base_uri": "https://localhost:8080/"
        }
      },
      "source": [
        "%%file segundo.py\n",
        "\n",
        "def contarLetras(a): # No cambiar el nombre de la función ni parámetros\n",
        "    d = {}\n",
        "    for char in a:\n",
        "        if char is ' ' : continue\n",
        "        d[char] = d.get(char,0)+1\n",
        "    return d"
      ],
      "execution_count": 14,
      "outputs": [
        {
          "output_type": "stream",
          "name": "stdout",
          "text": [
            "Overwriting segundo.py\n"
          ]
        }
      ]
    },
    {
      "cell_type": "markdown",
      "metadata": {
        "id": "4N_xEKTh2iwa"
      },
      "source": [
        "## Casos de prueba\n",
        "\n",
        "Ejecuta las celdas siguientes por lo menos una vez antes de ejecutar los casos de prueba."
      ]
    },
    {
      "cell_type": "code",
      "metadata": {
        "id": "BbYOtVTE17lS",
        "outputId": "dc43cbca-6616-4547-8276-730d6f41f39e",
        "colab": {
          "base_uri": "https://localhost:8080/"
        }
      },
      "source": [
        "%%file primero_test.py\n",
        "import primero as p;\n",
        "\n",
        "def test_inverseSort1():\n",
        "  a = [1, 2, 3, 4, 5]\n",
        "  p.inverseSort(a)\n",
        "  assert a == [5, 4, 3, 2, 1]\n",
        "\n",
        "def test_inverseSort2():\n",
        "  a = \"h o l a\".split()\n",
        "  p.inverseSort(a)\n",
        "  assert a == [\"o\", \"l\", \"h\", \"a\"]"
      ],
      "execution_count": 5,
      "outputs": [
        {
          "output_type": "stream",
          "name": "stdout",
          "text": [
            "Overwriting primero_test.py\n"
          ]
        }
      ]
    },
    {
      "cell_type": "code",
      "metadata": {
        "id": "icCBZ_NHrmYa",
        "outputId": "26e91aaf-aa57-4b9f-d695-47b3864baf19",
        "colab": {
          "base_uri": "https://localhost:8080/"
        }
      },
      "source": [
        "%%file segundo_test.py\n",
        "import segundo as s;\n",
        "\n",
        "def test_contarLetras1():\n",
        "    assert s.contarLetras(\"mi mama\") == {\"m\": 3, \"a\": 2, \"i\": 1}\n",
        "\n",
        "def test_contarLetras2():\n",
        "    assert s.contarLetras(\"aaabbbccabc\") == {\"a\": 4, \"b\": 4, \"c\": 3}"
      ],
      "execution_count": 8,
      "outputs": [
        {
          "output_type": "stream",
          "name": "stdout",
          "text": [
            "Writing segundo_test.py\n"
          ]
        }
      ]
    },
    {
      "cell_type": "markdown",
      "metadata": {
        "id": "3RiUpMWQfmrE"
      },
      "source": [
        "### Ejecuta esta celda para verificar tus respuestas.\n",
        "Cuando estés conforme, no olvides copiar el código indicado en los archivos correspondientes."
      ]
    },
    {
      "cell_type": "code",
      "metadata": {
        "id": "DnHXIhH0xcUW",
        "outputId": "ca0d979e-8c99-45c8-9e64-0952b32e7b72",
        "colab": {
          "base_uri": "https://localhost:8080/"
        }
      },
      "source": [
        "!python -m pytest -v"
      ],
      "execution_count": 28,
      "outputs": [
        {
          "output_type": "stream",
          "name": "stdout",
          "text": [
            "\u001b[1m============================= test session starts ==============================\u001b[0m\n",
            "platform linux -- Python 3.7.12, pytest-3.6.4, py-1.10.0, pluggy-0.7.1 -- /usr/bin/python3\n",
            "cachedir: .pytest_cache\n",
            "rootdir: /content, inifile:\n",
            "plugins: typeguard-2.7.1\n",
            "\u001b[1m\rcollecting 0 items                                                             \u001b[0m\u001b[1m\rcollecting 2 items                                                             \u001b[0m\u001b[1m\rcollecting 4 items                                                             \u001b[0m\u001b[1m\rcollected 4 items                                                              \u001b[0m\n",
            "\n",
            "primero_test.py::test_inverseSort1 \u001b[32mPASSED\u001b[0m\u001b[36m                                [ 25%]\u001b[0m\n",
            "primero_test.py::test_inverseSort2 \u001b[32mPASSED\u001b[0m\u001b[36m                                [ 50%]\u001b[0m\n",
            "segundo_test.py::test_contarLetras1 \u001b[32mPASSED\u001b[0m\u001b[36m                               [ 75%]\u001b[0m\n",
            "segundo_test.py::test_contarLetras2 \u001b[32mPASSED\u001b[0m\u001b[36m                               [100%]\u001b[0m\n",
            "\n",
            "\u001b[32m\u001b[1m=========================== 4 passed in 0.02 seconds ===========================\u001b[0m\n"
          ]
        }
      ]
    }
  ]
}